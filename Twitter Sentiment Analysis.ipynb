{
 "cells": [
  {
   "cell_type": "markdown",
   "id": "a18985f0-9d36-4717-9070-c8f43b808f5e",
   "metadata": {},
   "source": [
    "# Twitter Sentiment Analysis"
   ]
  },
  {
   "cell_type": "code",
   "execution_count": 146,
   "id": "69ee8e30-c7a8-47b6-be4e-11be6a797d65",
   "metadata": {},
   "outputs": [],
   "source": [
    "# import libraries\n",
    "import pandas as pd\n",
    "import numpy as np\n",
    "import matplotlib.pyplot as plt\n",
    "from wordcloud import WordCloud\n",
    "\n",
    "import requests"
   ]
  },
  {
   "cell_type": "markdown",
   "id": "1ed1f286-3ffd-4987-b038-138d46e637d1",
   "metadata": {},
   "source": [
    "## Dataset"
   ]
  },
  {
   "cell_type": "code",
   "execution_count": 147,
   "id": "6c4895e2-abd9-4d12-a2d4-9a9760fe6390",
   "metadata": {},
   "outputs": [],
   "source": [
    "# Import CSV\n",
    "df_twt_raw = pd.read_csv('/home/manwar3/NLP/source/comments_data.csv',delimiter='|')"
   ]
  },
  {
   "cell_type": "code",
   "execution_count": 148,
   "id": "d248d1e0-b81a-4381-b5c0-e120c20d5568",
   "metadata": {},
   "outputs": [
    {
     "data": {
      "text/html": [
       "<div>\n",
       "<style scoped>\n",
       "    .dataframe tbody tr th:only-of-type {\n",
       "        vertical-align: middle;\n",
       "    }\n",
       "\n",
       "    .dataframe tbody tr th {\n",
       "        vertical-align: top;\n",
       "    }\n",
       "\n",
       "    .dataframe thead th {\n",
       "        text-align: right;\n",
       "    }\n",
       "</style>\n",
       "<table border=\"1\" class=\"dataframe\">\n",
       "  <thead>\n",
       "    <tr style=\"text-align: right;\">\n",
       "      <th></th>\n",
       "      <th>comments</th>\n",
       "      <th>label</th>\n",
       "    </tr>\n",
       "  </thead>\n",
       "  <tbody>\n",
       "    <tr>\n",
       "      <th>0</th>\n",
       "      <td>Sangat puas dengan layanan di sini, cepat dan ...</td>\n",
       "      <td>0</td>\n",
       "    </tr>\n",
       "    <tr>\n",
       "      <th>1</th>\n",
       "      <td>Suka bgt sama first media jaringan dan layanan...</td>\n",
       "      <td>0</td>\n",
       "    </tr>\n",
       "    <tr>\n",
       "      <th>2</th>\n",
       "      <td>Jaringannya buruk sekali, sangat mengecewakan.</td>\n",
       "      <td>1</td>\n",
       "    </tr>\n",
       "    <tr>\n",
       "      <th>3</th>\n",
       "      <td>Linknet bagus sekali, saya menikmati setiap me...</td>\n",
       "      <td>0</td>\n",
       "    </tr>\n",
       "    <tr>\n",
       "      <th>4</th>\n",
       "      <td>Pelayanan pelanggan mereka sangat lambat dan t...</td>\n",
       "      <td>1</td>\n",
       "    </tr>\n",
       "  </tbody>\n",
       "</table>\n",
       "</div>"
      ],
      "text/plain": [
       "                                            comments  label\n",
       "0  Sangat puas dengan layanan di sini, cepat dan ...      0\n",
       "1  Suka bgt sama first media jaringan dan layanan...      0\n",
       "2     Jaringannya buruk sekali, sangat mengecewakan.      1\n",
       "3  Linknet bagus sekali, saya menikmati setiap me...      0\n",
       "4  Pelayanan pelanggan mereka sangat lambat dan t...      1"
      ]
     },
     "execution_count": 148,
     "metadata": {},
     "output_type": "execute_result"
    }
   ],
   "source": [
    "df_twt_raw.head()"
   ]
  },
  {
   "cell_type": "code",
   "execution_count": 149,
   "id": "f1179cb9-6f4a-45cf-a2ef-f83bc80b20d7",
   "metadata": {},
   "outputs": [
    {
     "data": {
      "text/html": [
       "<div>\n",
       "<style scoped>\n",
       "    .dataframe tbody tr th:only-of-type {\n",
       "        vertical-align: middle;\n",
       "    }\n",
       "\n",
       "    .dataframe tbody tr th {\n",
       "        vertical-align: top;\n",
       "    }\n",
       "\n",
       "    .dataframe thead tr th {\n",
       "        text-align: left;\n",
       "    }\n",
       "\n",
       "    .dataframe thead tr:last-of-type th {\n",
       "        text-align: right;\n",
       "    }\n",
       "</style>\n",
       "<table border=\"1\" class=\"dataframe\">\n",
       "  <thead>\n",
       "    <tr>\n",
       "      <th></th>\n",
       "      <th colspan=\"4\" halign=\"left\">comments</th>\n",
       "    </tr>\n",
       "    <tr>\n",
       "      <th></th>\n",
       "      <th>count</th>\n",
       "      <th>unique</th>\n",
       "      <th>top</th>\n",
       "      <th>freq</th>\n",
       "    </tr>\n",
       "    <tr>\n",
       "      <th>label</th>\n",
       "      <th></th>\n",
       "      <th></th>\n",
       "      <th></th>\n",
       "      <th></th>\n",
       "    </tr>\n",
       "  </thead>\n",
       "  <tbody>\n",
       "    <tr>\n",
       "      <th>0</th>\n",
       "      <td>213</td>\n",
       "      <td>161</td>\n",
       "      <td>Layanan FirstMedia selalu memberikan yang terb...</td>\n",
       "      <td>4</td>\n",
       "    </tr>\n",
       "    <tr>\n",
       "      <th>1</th>\n",
       "      <td>200</td>\n",
       "      <td>200</td>\n",
       "      <td>Jaringannya buruk sekali, sangat mengecewakan.</td>\n",
       "      <td>1</td>\n",
       "    </tr>\n",
       "  </tbody>\n",
       "</table>\n",
       "</div>"
      ],
      "text/plain": [
       "      comments                                                               \n",
       "         count unique                                                top freq\n",
       "label                                                                        \n",
       "0          213    161  Layanan FirstMedia selalu memberikan yang terb...    4\n",
       "1          200    200     Jaringannya buruk sekali, sangat mengecewakan.    1"
      ]
     },
     "execution_count": 149,
     "metadata": {},
     "output_type": "execute_result"
    }
   ],
   "source": [
    "df_twt_raw.groupby('label').describe()"
   ]
  },
  {
   "cell_type": "markdown",
   "id": "b3436573-4832-4dda-9d96-8084353412d9",
   "metadata": {},
   "source": [
    "# Exploratory Data Analysis"
   ]
  },
  {
   "cell_type": "code",
   "execution_count": 150,
   "id": "afab0f6a-0826-458e-a604-728c35f4e142",
   "metadata": {},
   "outputs": [],
   "source": [
    "# Apply lambda len to add new df as length\n",
    "df_twt_raw['length'] = df_twt_raw['comments'].apply(len)"
   ]
  },
  {
   "cell_type": "code",
   "execution_count": 151,
   "id": "0f76dee0-ffd8-4ee9-a3e4-8a87830edb3b",
   "metadata": {},
   "outputs": [
    {
     "data": {
      "text/html": [
       "<div>\n",
       "<style scoped>\n",
       "    .dataframe tbody tr th:only-of-type {\n",
       "        vertical-align: middle;\n",
       "    }\n",
       "\n",
       "    .dataframe tbody tr th {\n",
       "        vertical-align: top;\n",
       "    }\n",
       "\n",
       "    .dataframe thead th {\n",
       "        text-align: right;\n",
       "    }\n",
       "</style>\n",
       "<table border=\"1\" class=\"dataframe\">\n",
       "  <thead>\n",
       "    <tr style=\"text-align: right;\">\n",
       "      <th></th>\n",
       "      <th>comments</th>\n",
       "      <th>label</th>\n",
       "      <th>length</th>\n",
       "    </tr>\n",
       "  </thead>\n",
       "  <tbody>\n",
       "    <tr>\n",
       "      <th>0</th>\n",
       "      <td>Sangat puas dengan layanan di sini, cepat dan ...</td>\n",
       "      <td>0</td>\n",
       "      <td>55</td>\n",
       "    </tr>\n",
       "    <tr>\n",
       "      <th>1</th>\n",
       "      <td>Suka bgt sama first media jaringan dan layanan...</td>\n",
       "      <td>0</td>\n",
       "      <td>63</td>\n",
       "    </tr>\n",
       "    <tr>\n",
       "      <th>2</th>\n",
       "      <td>Jaringannya buruk sekali, sangat mengecewakan.</td>\n",
       "      <td>1</td>\n",
       "      <td>46</td>\n",
       "    </tr>\n",
       "    <tr>\n",
       "      <th>3</th>\n",
       "      <td>Linknet bagus sekali, saya menikmati setiap me...</td>\n",
       "      <td>0</td>\n",
       "      <td>53</td>\n",
       "    </tr>\n",
       "    <tr>\n",
       "      <th>4</th>\n",
       "      <td>Pelayanan pelanggan mereka sangat lambat dan t...</td>\n",
       "      <td>1</td>\n",
       "      <td>61</td>\n",
       "    </tr>\n",
       "  </tbody>\n",
       "</table>\n",
       "</div>"
      ],
      "text/plain": [
       "                                            comments  label  length\n",
       "0  Sangat puas dengan layanan di sini, cepat dan ...      0      55\n",
       "1  Suka bgt sama first media jaringan dan layanan...      0      63\n",
       "2     Jaringannya buruk sekali, sangat mengecewakan.      1      46\n",
       "3  Linknet bagus sekali, saya menikmati setiap me...      0      53\n",
       "4  Pelayanan pelanggan mereka sangat lambat dan t...      1      61"
      ]
     },
     "execution_count": 151,
     "metadata": {},
     "output_type": "execute_result"
    }
   ],
   "source": [
    "df_twt_raw.head()"
   ]
  },
  {
   "cell_type": "code",
   "execution_count": 152,
   "id": "7478ae18-056d-4bfc-a07c-60b833f8b0eb",
   "metadata": {},
   "outputs": [
    {
     "data": {
      "text/plain": [
       "array([<Axes: title={'center': '0'}>, <Axes: title={'center': '1'}>],\n",
       "      dtype=object)"
      ]
     },
     "execution_count": 152,
     "metadata": {},
     "output_type": "execute_result"
    },
    {
     "data": {
      "image/png": "[encoded data removed]",
      "text/plain": [
       "<Figure size 1200x400 with 2 Axes>"
      ]
     },
     "metadata": {},
     "output_type": "display_data"
    }
   ],
   "source": [
    "df_twt_raw.hist(column='length',by='label',bins=60,figsize=(12,4))"
   ]
  },
  {
   "cell_type": "code",
   "execution_count": 153,
   "id": "a7682e7f-d491-4bd2-9ce8-5dd8484226ac",
   "metadata": {},
   "outputs": [
    {
     "name": "stdout",
     "output_type": "stream",
     "text": [
      "label\n",
      "0     61.666667\n",
      "1    103.780000\n",
      "Name: length, dtype: float64\n"
     ]
    }
   ],
   "source": [
    "average_length_by_label = df_twt_raw.groupby('label')['length'].mean()\n",
    "print(average_length_by_label)"
   ]
  },
  {
   "cell_type": "markdown",
   "id": "42e8f8f3-4d8b-48f3-bcbe-65c4aa0778dc",
   "metadata": {},
   "source": [
    "we could analyzed that average message length of negative sentiment has longer message in compare by possitive sentiment message length."
   ]
  },
  {
   "cell_type": "markdown",
   "id": "ea61e0a2-266d-41d1-9b32-dfe49ca07b83",
   "metadata": {},
   "source": [
    "### Calculate balance dataset"
   ]
  },
  {
   "cell_type": "code",
   "execution_count": 154,
   "id": "aa2dc7b2-73fd-4e44-aa49-b61670696d5f",
   "metadata": {},
   "outputs": [
    {
     "data": {
      "image/png": "[encoded data removed]",
      "text/plain": [
       "<Figure size 800x600 with 1 Axes>"
      ]
     },
     "metadata": {},
     "output_type": "display_data"
    }
   ],
   "source": [
    "# Count the occurrences of each category\n",
    "counts = df_twt_raw['label'].value_counts()\n",
    "\n",
    "# Plot using Matplotlib\n",
    "plt.figure(figsize=(8, 6))\n",
    "plt.bar(counts.index.astype(str), counts.values, color='skyblue', edgecolor='black')\n",
    "\n",
    "# Add labels and title\n",
    "plt.xlabel('label')\n",
    "plt.ylabel('Count')\n",
    "plt.title('Count Plot of Sentiment')\n",
    "\n",
    "# Show plot\n",
    "plt.show()"
   ]
  },
  {
   "cell_type": "markdown",
   "id": "4e49d232-f5ff-4b8a-bad1-18dd939477cd",
   "metadata": {},
   "source": [
    "## Prepare Training Data"
   ]
  },
  {
   "cell_type": "code",
   "execution_count": 155,
   "id": "4c352687-6b6f-4390-9c8a-ccb9d014d73c",
   "metadata": {},
   "outputs": [],
   "source": [
    "from sklearn.model_selection import train_test_split"
   ]
  },
  {
   "cell_type": "code",
   "execution_count": 156,
   "id": "96efa2c9-9a5b-43e4-9bf8-775fdcd29ec1",
   "metadata": {},
   "outputs": [],
   "source": [
    "data_train,data_test,label_train,label_test = train_test_split(df_twt_raw['comments'],df_twt_raw['label'],test_size=0.3)"
   ]
  },
  {
   "cell_type": "markdown",
   "id": "4d98fa52-d5e3-42c0-bf1f-26ea01110c4e",
   "metadata": {},
   "source": [
    "#### Check DataTrain."
   ]
  },
  {
   "cell_type": "code",
   "execution_count": 157,
   "id": "9c36ae8d-9396-4162-a923-ec23c1bbb64a",
   "metadata": {},
   "outputs": [
    {
     "data": {
      "text/plain": [
       "341    Layanan pelanggan FirstMedia selalu cepat tang...\n",
       "285    FirstMedia selalu memberikan promo menarik unt...\n",
       "123    @FirstMediaCares min kok saya udh minta cabut ...\n",
       "228    Kualitas suara dan gambar di TV kabel FirstMed...\n",
       "314    Saya sangat senang dengan kualitas channel fil...\n",
       "                             ...                        \n",
       "30     @FirstMediaCares daerah tajur ciledug tangeran...\n",
       "238     Teknisi FirstMedia sangat profesional dan ramah.\n",
       "98     @FirstMediaCares kebiasaan banget tiap ujan la...\n",
       "164    @FirstMediaCares lagi gangguan kah min? id : 1...\n",
       "212    @FirstMediaCares ini wifi saya udah setengah h...\n",
       "Name: comments, Length: 289, dtype: object"
      ]
     },
     "execution_count": 157,
     "metadata": {},
     "output_type": "execute_result"
    }
   ],
   "source": [
    "data_train"
   ]
  },
  {
   "cell_type": "markdown",
   "id": "91646286-9b25-423d-b81c-91b705e7efc9",
   "metadata": {},
   "source": [
    "## Custom Preprocessing\n",
    "\n",
    "Karena kita menggunakan bahasa indonesia, jadi diperlukan custom preprocessing yang mungkin berbeda dengan english based text process, Preprocess awal yaitu menghilangkan symbolic / karakter aneh didalam document seperti punctuation. normalisasi upper dan lower-casing. could be more added actually."
   ]
  },
  {
   "cell_type": "code",
   "execution_count": 158,
   "id": "c396a8c6-5184-4f28-bf8a-a9fd26080555",
   "metadata": {},
   "outputs": [],
   "source": [
    "import re\n",
    "\n",
    "# cleaning text\n",
    "def cleaning_text(text):\n",
    "    # remove url\n",
    "    url_pattern = re.compile(r'https?://\\S+|www\\.\\S+')\n",
    "    text =  url_pattern.sub(r'', text)\n",
    "\n",
    "    # remove hashtags\n",
    "    # only removing the hash # sign from the word\n",
    "    text = re.sub(r'#', '', text)\n",
    "\n",
    "    # remove mention handle user (@)\n",
    "    text = re.sub(r'@[\\w]*', ' ', text)\n",
    "\n",
    "    # remove punctuation\n",
    "    punctuations = '''!()-[]{};:'\"\\,<>./?@#$%^&*_~'''\n",
    "    for x in text.lower():\n",
    "        if x in punctuations:\n",
    "            text = text.replace(x, \" \")\n",
    "\n",
    "    # remove extra whitespace\n",
    "    text = text.strip()\n",
    "\n",
    "    # lowercase\n",
    "    text = text.lower()\n",
    "    return text"
   ]
  },
  {
   "cell_type": "markdown",
   "id": "c574e244-bee7-45aa-ba59-0dda2826d269",
   "metadata": {},
   "source": [
    "## Set Custom Indonesian Stop Words, to remove unsignificant importance word in the sentence"
   ]
  },
  {
   "cell_type": "markdown",
   "id": "fbc36e7d-1b5a-440f-9461-4d4a90cbbf5e",
   "metadata": {},
   "source": [
    "Stop words adalah menghilangkan kata yang tidak secara signifikan berkorelasi dengan label, contoh kata dalam subject :saya, kamu, contoh seperti misalkan, padahal, dll."
   ]
  },
  {
   "cell_type": "code",
   "execution_count": 159,
   "id": "bc0a8dc2-244b-4f60-b7da-55fd3010c5e5",
   "metadata": {},
   "outputs": [
    {
     "name": "stderr",
     "output_type": "stream",
     "text": [
      "[nltk_data] Downloading package stopwords to\n",
      "[nltk_data]     /home/manwar3/nltk_data...\n",
      "[nltk_data]   Package stopwords is already up-to-date!\n",
      "[nltk_data] Downloading package punkt to /home/manwar3/nltk_data...\n",
      "[nltk_data]   Package punkt is already up-to-date!\n"
     ]
    },
    {
     "name": "stdout",
     "output_type": "stream",
     "text": [
      "Stopwords: ['tidakkah', 'lalu', 'inilah', 'pukul', 'seperlunya']\n"
     ]
    }
   ],
   "source": [
    "import nltk\n",
    "from nltk.corpus import stopwords\n",
    "nltk.download('stopwords')\n",
    "nltk.download('punkt')\n",
    "\n",
    "# CONSTRUCT STOPWORDS\n",
    "rama_stopword = \"https://raw.githubusercontent.com/ramaprakoso/analisis-sentimen/master/kamus/stopword.txt\"\n",
    "yutomo_stopword = \"https://raw.githubusercontent.com/yasirutomo/python-sentianalysis-id/master/data/feature_list/stopwordsID.txt\"\n",
    "fpmipa_stopword = \"https://raw.githubusercontent.com/onlyphantom/elangdev/master/elang/word2vec/utils/stopwords-list/fpmipa-stopwords.txt\"\n",
    "sastrawi_stopword = \"https://raw.githubusercontent.com/onlyphantom/elangdev/master/elang/word2vec/utils/stopwords-list/sastrawi-stopwords.txt\"\n",
    "aliakbar_stopword = \"https://raw.githubusercontent.com/onlyphantom/elangdev/master/elang/word2vec/utils/stopwords-list/aliakbars-bilp.txt\"\n",
    "pebahasa_stopword = \"https://raw.githubusercontent.com/onlyphantom/elangdev/master/elang/word2vec/utils/stopwords-list/pebbie-pebahasa.txt\"\n",
    "elang_stopword = \"https://raw.githubusercontent.com/onlyphantom/elangdev/master/elang/word2vec/utils/stopwords-id.txt\"\n",
    "nltk_stopword = stopwords.words('indonesian')\n",
    "\n",
    "# create path url for each stopword\n",
    "path_stopwords = [rama_stopword, yutomo_stopword, fpmipa_stopword, sastrawi_stopword,\n",
    "                  aliakbar_stopword, pebahasa_stopword, elang_stopword]\n",
    "\n",
    "# combine stopwords\n",
    "stopwords_l = nltk_stopword\n",
    "for path in path_stopwords:\n",
    "    response = requests.get(path)\n",
    "    stopwords_l += response.text.split('\\n')\n",
    "\n",
    "# Tambahin custom stop words, ke dokumen kita\n",
    "custom_st = '''\n",
    "yg yang dgn ane smpai bgt gua gwa si tu ama utk udh btw\n",
    "ntar lol ttg emg aj aja tll sy sih kalo nya trsa mnrt nih\n",
    "ma dr ajaa tp akan bs bikin kta pas pdahl bnyak guys abis tnx\n",
    "bang banget nang mas amat bangettt tjoy hemm haha sllu hrs lanjut\n",
    "bgtu sbnrnya trjadi bgtu pdhl sm plg skrg first media firstmedia firstmediacares \n",
    "linknet link net layan layanan pelayanan jaring jaringan jaringannya langgan langganan\n",
    "min hallo halo id langgan pelanggan admin internet wifi wifinya semalem sangat\n",
    "'''\n",
    "\n",
    "# create dictionary with unique stopword\n",
    "st_words = set(stopwords_l)\n",
    "custom_stopword = set(custom_st.split())\n",
    "\n",
    "# result stopwords \n",
    "stop_words = st_words | custom_stopword\n",
    "\n",
    "# custom reverse word to remove\n",
    "reverse_word = ['tidak', 'bukan', 'tak', 'belum', 'kurang', 'jangan', 'nggak', 'ga', 'gak', 'ndak', 'bukanlah']\n",
    "stop_words = [elem for elem in stop_words if elem not in reverse_word]\n",
    "print(f'Stopwords: {list(stop_words)[0:5]}')"
   ]
  },
  {
   "cell_type": "markdown",
   "id": "c1733712-7f3a-417b-acf1-0f4e49383c3c",
   "metadata": {},
   "source": [
    "### Function to remove stopwords"
   ]
  },
  {
   "cell_type": "code",
   "execution_count": 160,
   "id": "8aa69f35-814c-445e-966a-bce46aab2f73",
   "metadata": {},
   "outputs": [],
   "source": [
    "from nltk import word_tokenize, sent_tokenize\n",
    "\n",
    "def remove_stopword(text, stop_words=stop_words):\n",
    "    word_tokens = word_tokenize(text)\n",
    "    filtered_sentence = [w for w in word_tokens if not w in stop_words]\n",
    "    return ' '.join(filtered_sentence)"
   ]
  },
  {
   "cell_type": "markdown",
   "id": "c2c71741-7ee2-4fb9-b0e1-8f0bbdbb4836",
   "metadata": {},
   "source": [
    "### Process Stemming."
   ]
  },
  {
   "cell_type": "code",
   "execution_count": 161,
   "id": "27e24b50-c547-4c8b-8eb8-88cd3195387d",
   "metadata": {},
   "outputs": [],
   "source": [
    "from Sastrawi.Stemmer.StemmerFactory import StemmerFactory\n",
    "\n",
    "def stemming_and_lemmatization(text):\n",
    "    factory = StemmerFactory()\n",
    "    stemmer = factory.create_stemmer()\n",
    "    return stemmer.stem(text)"
   ]
  },
  {
   "cell_type": "markdown",
   "id": "780643d0-fc22-435f-a2e0-5d9931e61ce1",
   "metadata": {},
   "source": [
    "### Process Tokenization"
   ]
  },
  {
   "cell_type": "markdown",
   "id": "773c267b-2a3f-4af3-b4f5-4175343e8380",
   "metadata": {},
   "source": [
    "** Process tokenization adalah process split document menjadi beberapa list dictionary contoh :\n",
    "\"pelayanan firstmedia memuaskan\" sehingga menjadi \n",
    "['pelayanan', 'firstmedia', 'memuaskan']\n"
   ]
  },
  {
   "cell_type": "code",
   "execution_count": 162,
   "id": "c4f22653-fded-4494-9a41-93cc0c35c26c",
   "metadata": {},
   "outputs": [],
   "source": [
    "def tokenize(text):\n",
    "    return word_tokenize(text)"
   ]
  },
  {
   "cell_type": "markdown",
   "id": "9bca80bf-38db-47f0-830c-8e8b43425491",
   "metadata": {},
   "source": [
    "### Sample Preprocessing Custom Text"
   ]
  },
  {
   "cell_type": "markdown",
   "id": "d9c51359-707c-4159-a41a-dc1b278c0d7f",
   "metadata": {},
   "source": [
    "Sample Process saat preprocessing,\n",
    "1. Cleaning dari karakter-karakter aneh.\n",
    "2. Menghilangkan Stopwords / Kata yang tidak penting / tidak signifikan membedakan positif/negatif\n",
    "3. Stemming dan lemmatizing (mengambil kata dasar dari sebuah kata e.g mempedulikan - peduli, semalam - malam)\n",
    "4. Tokenization (memisahkan setiap document menjadi dictonary list)"
   ]
  },
  {
   "cell_type": "code",
   "execution_count": 163,
   "id": "29c61f68-1740-496d-abc2-b38677f60f1e",
   "metadata": {},
   "outputs": [
    {
     "name": "stdout",
     "output_type": "stream",
     "text": [
      "Original text: \n",
      "Semalam nonton film ini, paginya ane download, malem langsung nonton.. ane smpai begadang.. hasilnya? Ane Kecewa... http://fb.me/13sZi5lbC\n",
      "\n",
      "Cleaned text: \n",
      "semalam nonton film ini  paginya ane download  malem langsung nonton   ane smpai begadang   hasilnya  ane kecewa\n",
      "\n",
      "Removed stopword: \n",
      "semalam nonton film paginya download malem nonton begadang hasilnya kecewa\n",
      "\n",
      "Stemmed and lemmatized: \n",
      "malam nonton film pagi download malem nonton begadang hasil kecewa\n",
      "\n",
      "Tokenized: \n",
      "['malam', 'nonton', 'film', 'pagi', 'download', 'malem', 'nonton', 'begadang', 'hasil', 'kecewa']\n"
     ]
    }
   ],
   "source": [
    "# example\n",
    "text = 'Semalam nonton film ini, paginya ane download, malem langsung nonton.. ane smpai begadang.. hasilnya? Ane Kecewa... http://fb.me/13sZi5lbC'\n",
    "print(f'Original text: \\n{text}\\n')\n",
    "\n",
    "# cleaning text and lowercase\n",
    "text = cleaning_text(text)\n",
    "print(f'Cleaned text: \\n{text}\\n')\n",
    "\n",
    "# remove stopwords\n",
    "text = remove_stopword(text)\n",
    "print(f'Removed stopword: \\n{text}\\n')\n",
    "\n",
    "# stemming and lemmatization\n",
    "text = stemming_and_lemmatization(text)\n",
    "print(f'Stemmed and lemmatized: \\n{text}\\n')\n",
    "\n",
    "# tokenization\n",
    "text = tokenize(text)\n",
    "print(f'Tokenized: \\n{text}')"
   ]
  },
  {
   "cell_type": "markdown",
   "id": "c0460d6b-118e-4a1e-aee0-d3238eca2566",
   "metadata": {},
   "source": [
    "## Pipeline for our Datasets."
   ]
  },
  {
   "cell_type": "markdown",
   "id": "bf1f4d59-1f46-46fc-9219-2d9d70ae3db1",
   "metadata": {},
   "source": [
    "Prepare step pipeline untuk memproses dataframe / mapping dataframe kedalam function"
   ]
  },
  {
   "cell_type": "code",
   "execution_count": 164,
   "id": "e5330e34-9af5-4cae-ac74-a4011dba1be9",
   "metadata": {},
   "outputs": [],
   "source": [
    "def preprocess(text):\n",
    "    #print(f\"Raw: {text} \\n\")  # Debugging output\n",
    "\n",
    "    # cleaning text and lowercase\n",
    "    output = cleaning_text(text)\n",
    "    #print(f\"Cleaned text: {output}\")  # Debugging output\n",
    "    \n",
    "    # remove stopwords\n",
    "    output = remove_stopword(output)\n",
    "    #print(f\"Text after stopword removal: {output}\")\n",
    "        \n",
    "    # stemming and lemmatization\n",
    "    output = stemming_and_lemmatization(output)\n",
    "    #print(f\"Text after stemming and lemmatization: {output} \\n\")\n",
    "    # Tokenization dilakukan saat CountVectorizer() didalam Pipeline\n",
    "\n",
    "    return output"
   ]
  },
  {
   "cell_type": "code",
   "execution_count": 165,
   "id": "cd5fcd70-0c3a-4390-91ff-a93b19ba4edf",
   "metadata": {},
   "outputs": [],
   "source": [
    "from sklearn.base import BaseEstimator, TransformerMixin\n",
    "class CustomPreprocessor(BaseEstimator, TransformerMixin):\n",
    "    def transform(self, X, y=None):\n",
    "        return [preprocess(text) for text in X]\n",
    "\n",
    "    def fit(self, X, y=None):\n",
    "        return self"
   ]
  },
  {
   "cell_type": "markdown",
   "id": "3609233f-fd0d-4dd1-aedd-8a9f32657931",
   "metadata": {},
   "source": [
    "## Train Pipeline"
   ]
  },
  {
   "cell_type": "markdown",
   "id": "887becc5-40f5-4976-adbf-1de6a3475f63",
   "metadata": {},
   "source": [
    "** Take a note as usual if we want to perform train and evaluate the model(text-based data) we need to repeat previous step such remove stop_words, punctuation, do Vectorization in this case CountVectorizer (bags_transformer) and do TFIDF to obatain weighted per word vs entire data, but instead we could use train pipeline that we don't need to repeat these process again."
   ]
  },
  {
   "cell_type": "code",
   "execution_count": 166,
   "id": "aa765918-9547-4c11-80d1-5aae3b10fac1",
   "metadata": {},
   "outputs": [],
   "source": [
    "from sklearn.pipeline import Pipeline\n",
    "from sklearn.feature_extraction.text import TfidfTransformer\n",
    "from sklearn.naive_bayes import MultinomialNB\n",
    "from sklearn.feature_extraction.text import CountVectorizer"
   ]
  },
  {
   "cell_type": "markdown",
   "id": "66d3e78c-1118-4e11-bb54-884582bd6a13",
   "metadata": {},
   "source": [
    "** Tokenize Process done in CountVectorizer step"
   ]
  },
  {
   "cell_type": "markdown",
   "id": "3f941484-b589-4efa-ab7f-84fef0bdb47b",
   "metadata": {},
   "source": [
    "** Include kan function custom yang sudah dibuat"
   ]
  },
  {
   "cell_type": "code",
   "execution_count": 167,
   "id": "42012062-b4cb-4870-b589-86d48e0a4a54",
   "metadata": {},
   "outputs": [],
   "source": [
    "pipeline = Pipeline([\n",
    "    ('preprocess', CustomPreprocessor()), # Custom Indonesian preprocess\n",
    "    ('bow',CountVectorizer()), # Tokenize \n",
    "    ('tfidf',TfidfTransformer()), # TFIDF\n",
    "    ('classifier',MultinomialNB()) # Classify\n",
    "])"
   ]
  },
  {
   "cell_type": "markdown",
   "id": "8272c607-035d-477c-9de5-05e3e26b1c52",
   "metadata": {},
   "source": [
    "## Process Training Data."
   ]
  },
  {
   "cell_type": "code",
   "execution_count": 168,
   "id": "249d2d88-418c-4756-a6d9-0b146c9cd5c0",
   "metadata": {},
   "outputs": [
    {
     "data": {
      "text/html": [
       "<style>#sk-container-id-5 {color: black;}#sk-container-id-5 pre{padding: 0;}#sk-container-id-5 div.sk-toggleable {background-color: white;}#sk-container-id-5 label.sk-toggleable__label {cursor: pointer;display: block;width: 100%;margin-bottom: 0;padding: 0.3em;box-sizing: border-box;text-align: center;}#sk-container-id-5 label.sk-toggleable__label-arrow:before {content: \"▸\";float: left;margin-right: 0.25em;color: #696969;}#sk-container-id-5 label.sk-toggleable__label-arrow:hover:before {color: black;}#sk-container-id-5 div.sk-estimator:hover label.sk-toggleable__label-arrow:before {color: black;}#sk-container-id-5 div.sk-toggleable__content {max-height: 0;max-width: 0;overflow: hidden;text-align: left;background-color: #f0f8ff;}#sk-container-id-5 div.sk-toggleable__content pre {margin: 0.2em;color: black;border-radius: 0.25em;background-color: #f0f8ff;}#sk-container-id-5 input.sk-toggleable__control:checked~div.sk-toggleable__content {max-height: 200px;max-width: 100%;overflow: auto;}#sk-container-id-5 input.sk-toggleable__control:checked~label.sk-toggleable__label-arrow:before {content: \"▾\";}#sk-container-id-5 div.sk-estimator input.sk-toggleable__control:checked~label.sk-toggleable__label {background-color: #d4ebff;}#sk-container-id-5 div.sk-label input.sk-toggleable__control:checked~label.sk-toggleable__label {background-color: #d4ebff;}#sk-container-id-5 input.sk-hidden--visually {border: 0;clip: rect(1px 1px 1px 1px);clip: rect(1px, 1px, 1px, 1px);height: 1px;margin: -1px;overflow: hidden;padding: 0;position: absolute;width: 1px;}#sk-container-id-5 div.sk-estimator {font-family: monospace;background-color: #f0f8ff;border: 1px dotted black;border-radius: 0.25em;box-sizing: border-box;margin-bottom: 0.5em;}#sk-container-id-5 div.sk-estimator:hover {background-color: #d4ebff;}#sk-container-id-5 div.sk-parallel-item::after {content: \"\";width: 100%;border-bottom: 1px solid gray;flex-grow: 1;}#sk-container-id-5 div.sk-label:hover label.sk-toggleable__label {background-color: #d4ebff;}#sk-container-id-5 div.sk-serial::before {content: \"\";position: absolute;border-left: 1px solid gray;box-sizing: border-box;top: 0;bottom: 0;left: 50%;z-index: 0;}#sk-container-id-5 div.sk-serial {display: flex;flex-direction: column;align-items: center;background-color: white;padding-right: 0.2em;padding-left: 0.2em;position: relative;}#sk-container-id-5 div.sk-item {position: relative;z-index: 1;}#sk-container-id-5 div.sk-parallel {display: flex;align-items: stretch;justify-content: center;background-color: white;position: relative;}#sk-container-id-5 div.sk-item::before, #sk-container-id-5 div.sk-parallel-item::before {content: \"\";position: absolute;border-left: 1px solid gray;box-sizing: border-box;top: 0;bottom: 0;left: 50%;z-index: -1;}#sk-container-id-5 div.sk-parallel-item {display: flex;flex-direction: column;z-index: 1;position: relative;background-color: white;}#sk-container-id-5 div.sk-parallel-item:first-child::after {align-self: flex-end;width: 50%;}#sk-container-id-5 div.sk-parallel-item:last-child::after {align-self: flex-start;width: 50%;}#sk-container-id-5 div.sk-parallel-item:only-child::after {width: 0;}#sk-container-id-5 div.sk-dashed-wrapped {border: 1px dashed gray;margin: 0 0.4em 0.5em 0.4em;box-sizing: border-box;padding-bottom: 0.4em;background-color: white;}#sk-container-id-5 div.sk-label label {font-family: monospace;font-weight: bold;display: inline-block;line-height: 1.2em;}#sk-container-id-5 div.sk-label-container {text-align: center;}#sk-container-id-5 div.sk-container {/* jupyter's `normalize.less` sets `[hidden] { display: none; }` but bootstrap.min.css set `[hidden] { display: none !important; }` so we also need the `!important` here to be able to override the default hidden behavior on the sphinx rendered scikit-learn.org. See: https://github.com/scikit-learn/scikit-learn/issues/21755 */display: inline-block !important;position: relative;}#sk-container-id-5 div.sk-text-repr-fallback {display: none;}</style><div id=\"sk-container-id-5\" class=\"sk-top-container\"><div class=\"sk-text-repr-fallback\"><pre>Pipeline(steps=[(&#x27;preprocess&#x27;, CustomPreprocessor()),\n",
       "                (&#x27;bow&#x27;, CountVectorizer()), (&#x27;tfidf&#x27;, TfidfTransformer()),\n",
       "                (&#x27;classifier&#x27;, MultinomialNB())])</pre><b>In a Jupyter environment, please rerun this cell to show the HTML representation or trust the notebook. <br />On GitHub, the HTML representation is unable to render, please try loading this page with nbviewer.org.</b></div><div class=\"sk-container\" hidden><div class=\"sk-item sk-dashed-wrapped\"><div class=\"sk-label-container\"><div class=\"sk-label sk-toggleable\"><input class=\"sk-toggleable__control sk-hidden--visually\" id=\"sk-estimator-id-21\" type=\"checkbox\" ><label for=\"sk-estimator-id-21\" class=\"sk-toggleable__label sk-toggleable__label-arrow\">Pipeline</label><div class=\"sk-toggleable__content\"><pre>Pipeline(steps=[(&#x27;preprocess&#x27;, CustomPreprocessor()),\n",
       "                (&#x27;bow&#x27;, CountVectorizer()), (&#x27;tfidf&#x27;, TfidfTransformer()),\n",
       "                (&#x27;classifier&#x27;, MultinomialNB())])</pre></div></div></div><div class=\"sk-serial\"><div class=\"sk-item\"><div class=\"sk-estimator sk-toggleable\"><input class=\"sk-toggleable__control sk-hidden--visually\" id=\"sk-estimator-id-22\" type=\"checkbox\" ><label for=\"sk-estimator-id-22\" class=\"sk-toggleable__label sk-toggleable__label-arrow\">CustomPreprocessor</label><div class=\"sk-toggleable__content\"><pre>CustomPreprocessor()</pre></div></div></div><div class=\"sk-item\"><div class=\"sk-estimator sk-toggleable\"><input class=\"sk-toggleable__control sk-hidden--visually\" id=\"sk-estimator-id-23\" type=\"checkbox\" ><label for=\"sk-estimator-id-23\" class=\"sk-toggleable__label sk-toggleable__label-arrow\">CountVectorizer</label><div class=\"sk-toggleable__content\"><pre>CountVectorizer()</pre></div></div></div><div class=\"sk-item\"><div class=\"sk-estimator sk-toggleable\"><input class=\"sk-toggleable__control sk-hidden--visually\" id=\"sk-estimator-id-24\" type=\"checkbox\" ><label for=\"sk-estimator-id-24\" class=\"sk-toggleable__label sk-toggleable__label-arrow\">TfidfTransformer</label><div class=\"sk-toggleable__content\"><pre>TfidfTransformer()</pre></div></div></div><div class=\"sk-item\"><div class=\"sk-estimator sk-toggleable\"><input class=\"sk-toggleable__control sk-hidden--visually\" id=\"sk-estimator-id-25\" type=\"checkbox\" ><label for=\"sk-estimator-id-25\" class=\"sk-toggleable__label sk-toggleable__label-arrow\">MultinomialNB</label><div class=\"sk-toggleable__content\"><pre>MultinomialNB()</pre></div></div></div></div></div></div></div>"
      ],
      "text/plain": [
       "Pipeline(steps=[('preprocess', CustomPreprocessor()),\n",
       "                ('bow', CountVectorizer()), ('tfidf', TfidfTransformer()),\n",
       "                ('classifier', MultinomialNB())])"
      ]
     },
     "execution_count": 168,
     "metadata": {},
     "output_type": "execute_result"
    }
   ],
   "source": [
    "pipeline.fit(data_train,label_train)"
   ]
  },
  {
   "cell_type": "code",
   "execution_count": 169,
   "id": "273f01ae-9ece-4c63-a5c2-926b820f1cd9",
   "metadata": {},
   "outputs": [],
   "source": [
    "pipe_predict = pipeline.predict(data_test)"
   ]
  },
  {
   "cell_type": "code",
   "execution_count": 170,
   "id": "13fac24a-b35a-44d1-894c-fb3b52205946",
   "metadata": {},
   "outputs": [],
   "source": [
    "from sklearn.metrics import classification_report"
   ]
  },
  {
   "cell_type": "code",
   "execution_count": 171,
   "id": "1367a1df-3bc6-47d6-b22e-1cb2fc540a89",
   "metadata": {},
   "outputs": [
    {
     "name": "stdout",
     "output_type": "stream",
     "text": [
      "              precision    recall  f1-score   support\n",
      "\n",
      "           0       0.98      0.97      0.98        67\n",
      "           1       0.97      0.98      0.97        57\n",
      "\n",
      "    accuracy                           0.98       124\n",
      "   macro avg       0.98      0.98      0.98       124\n",
      "weighted avg       0.98      0.98      0.98       124\n",
      "\n"
     ]
    }
   ],
   "source": [
    "print(classification_report(label_test,pipe_predict))"
   ]
  },
  {
   "cell_type": "markdown",
   "id": "446d7f84-8a42-4ca9-bce6-0e2a0e17cddc",
   "metadata": {},
   "source": [
    "Hasil Klasifikasi dari model akurasi cukup, bagus tetapi belum tentu mengeneralisir ketika bertemu real world case. mari kita coba."
   ]
  },
  {
   "cell_type": "markdown",
   "id": "281e79de-edca-494e-b41d-5e8201fc0de7",
   "metadata": {},
   "source": [
    "# Custom Predictions"
   ]
  },
  {
   "cell_type": "code",
   "execution_count": 172,
   "id": "30613b5c-70c1-4b5e-9667-d54c45f5e2ac",
   "metadata": {},
   "outputs": [],
   "source": [
    "custom_text = [\n",
    "    \"firstmedia Internetnya sangat lambat\",\n",
    "    \"saya merasa puas dengan pelayanan firstmedia\",\n",
    "    \"Jaringan ga bagus\",\n",
    "    \"Sangat puas dengan layanan firstmedia\",\n",
    "    \"firstmedia jaringan nya bagus\",\n",
    "    \"firstmedia jaringan nya sangat jelek\"\n",
    "]"
   ]
  },
  {
   "cell_type": "code",
   "execution_count": 173,
   "id": "8d7e6829-d8f4-46f2-80d3-83b55850edb6",
   "metadata": {},
   "outputs": [],
   "source": [
    "custom_predictions = pipeline.predict(custom_text)"
   ]
  },
  {
   "cell_type": "code",
   "execution_count": 174,
   "id": "4b75c649-52df-4712-9404-1c6f02993fe0",
   "metadata": {},
   "outputs": [
    {
     "name": "stdout",
     "output_type": "stream",
     "text": [
      "Text: firstmedia Internetnya sangat lambat\n",
      "Predicted Label: 1\n",
      "\n",
      "Text: saya merasa puas dengan pelayanan firstmedia\n",
      "Predicted Label: 0\n",
      "\n",
      "Text: Jaringan ga bagus\n",
      "Predicted Label: 1\n",
      "\n",
      "Text: Sangat puas dengan layanan firstmedia\n",
      "Predicted Label: 0\n",
      "\n",
      "Text: firstmedia jaringan nya bagus\n",
      "Predicted Label: 0\n",
      "\n",
      "Text: firstmedia jaringan nya sangat jelek\n",
      "Predicted Label: 1\n",
      "\n"
     ]
    }
   ],
   "source": [
    "for text, prediction in zip(custom_text, custom_predictions):\n",
    "    print(f\"Text: {text}\")\n",
    "    print(f\"Predicted Label: {prediction}\")\n",
    "    print()"
   ]
  },
  {
   "cell_type": "markdown",
   "id": "18ee6085-2f6b-45d4-ad98-1004ec09b439",
   "metadata": {},
   "source": [
    "** Dari custom testcase ada salah satu prediksi yang meleset, mungkin bisa ditambahkan dataset lagi untuk memperbaiki akurasi."
   ]
  },
  {
   "cell_type": "markdown",
   "id": "c6cd77d2-9565-4984-b38c-47a8c33d4145",
   "metadata": {},
   "source": [
    "## Dump model"
   ]
  },
  {
   "cell_type": "code",
   "execution_count": 175,
   "id": "70e7701d-c066-4562-b740-543a9073ae58",
   "metadata": {},
   "outputs": [],
   "source": [
    "import joblib"
   ]
  },
  {
   "cell_type": "code",
   "execution_count": 176,
   "id": "59b0005d-1130-44e8-a682-45aafed17392",
   "metadata": {},
   "outputs": [
    {
     "data": {
      "text/plain": [
       "['sentiment_analysis_pipeline_twitter_LN.pkl']"
      ]
     },
     "execution_count": 176,
     "metadata": {},
     "output_type": "execute_result"
    }
   ],
   "source": [
    "joblib.dump(pipeline, 'sentiment_analysis_pipeline_twitter_LN.pkl')"
   ]
  }
 ],
 "metadata": {
  "kernelspec": {
   "display_name": "Python 3 (ipykernel)",
   "language": "python",
   "name": "python3"
  },
  "language_info": {
   "codemirror_mode": {
    "name": "ipython",
    "version": 3
   },
   "file_extension": ".py",
   "mimetype": "text/x-python",
   "name": "python",
   "nbconvert_exporter": "python",
   "pygments_lexer": "ipython3",
   "version": "3.8.10"
  }
 },
 "nbformat": 4,
 "nbformat_minor": 5
}
